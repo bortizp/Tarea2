{
 "cells": [
  {
   "cell_type": "markdown",
   "id": "0dcc1473",
   "metadata": {},
   "source": [
    "# Importar Estudiantes"
   ]
  },
  {
   "cell_type": "code",
   "execution_count": 16,
   "id": "2cd18ca8",
   "metadata": {},
   "outputs": [],
   "source": [
    "estudiantes = [\n",
    "    {\"nombre\": \"Ana\", \"notas\": [6.5, 7.0, 5.8]},\n",
    "    {\"nombre\": \"Luis\", \"notas\": [4.2, 5.1, 6.0]},\n",
    "    {\"nombre\": \"Sofía\", \"notas\": [3.9, 4.0, 4.5]},\n",
    "    {\"nombre\": \"Pedro\", \"notas\": [5.5, 6.1, 5.9]},\n",
    "    {\"nombre\": \"Valentina\", \"notas\": [7.0, 6.8, 6.9]},\n",
    "    {\"nombre\": \"Javier\", \"notas\": [4.0, 4.2, 4.1]},\n",
    "    {\"nombre\": \"Camila\", \"notas\": [5.0, 5.5, 5.8]},\n",
    "    {\"nombre\": \"Martín\", \"notas\": [3.5, 4.0, 4.2]},\n",
    "    {\"nombre\": \"Fernanda\", \"notas\": [6.2, 6.5, 6.0]},\n",
    "    {\"nombre\": \"Tomás\", \"notas\": [4.8, 5.0, 5.2]},\n",
    "    {\"nombre\": \"Josefa\", \"notas\": [5.9, 6.0, 6.1]},\n",
    "    {\"nombre\": \"Matías\", \"notas\": [3.8, 4.1, 4.0]},\n",
    "    {\"nombre\": \"Ignacio\", \"notas\": [6.7, 6.9, 7.0]},\n",
    "    {\"nombre\": \"Daniela\", \"notas\": [5.2, 5.4, 5.6]},\n",
    "    {\"nombre\": \"Sebastián\", \"notas\": [4.3, 4.5, 4.7]}\n",
    "]"
   ]
  },
  {
   "cell_type": "markdown",
   "id": "0bdc8442",
   "metadata": {},
   "source": [
    "# Validar datos"
   ]
  },
  {
   "cell_type": "code",
   "execution_count": 17,
   "id": "22d9660b",
   "metadata": {},
   "outputs": [
    {
     "name": "stdout",
     "output_type": "stream",
     "text": [
      "Todos los datos son válidos.\n"
     ]
    }
   ],
   "source": [
    "# Validador robusto para la lista de estudiantes\n",
    "def validar_estudiantes(estudiantes):\n",
    "\tif not isinstance(estudiantes, list):\n",
    "\t\traise TypeError(\"La variable 'estudiantes' debe ser una lista.\")\n",
    "\tif len(estudiantes) == 0:\n",
    "\t\traise ValueError(\"La lista de estudiantes está vacía.\")\n",
    "\tfor idx, estudiante in enumerate(estudiantes):\n",
    "\t\tif not isinstance(estudiante, dict):\n",
    "\t\t\traise TypeError(f\"El elemento en la posición {idx} no es un diccionario.\")\n",
    "\t\tif 'nombre' not in estudiante:\n",
    "\t\t\traise KeyError(f\"Falta la clave 'nombre' en el estudiante en la posición {idx}.\")\n",
    "\t\tif 'notas' not in estudiante:\n",
    "\t\t\traise KeyError(f\"Falta la clave 'notas' en el estudiante en la posición {idx}.\")\n",
    "\t\tnombre = estudiante['nombre']\n",
    "\t\tnotas = estudiante['notas']\n",
    "\t\tif not isinstance(nombre, str) or nombre.strip() == \"\":\n",
    "\t\t\traise ValueError(f\"El nombre del estudiante en la posición {idx} no es válido.\")\n",
    "\t\tif not isinstance(notas, list):\n",
    "\t\t\traise TypeError(f\"Las notas de {nombre} no son una lista.\")\n",
    "\t\tif len(notas) == 0:\n",
    "\t\t\traise ValueError(f\"La lista de notas de {nombre} está vacía.\")\n",
    "\t\tfor j, nota in enumerate(notas):\n",
    "\t\t\tif not (isinstance(nota, int) or isinstance(nota, float)):\n",
    "\t\t\t\traise TypeError(f\"La nota {j+1} de {nombre} no es un número.\")\n",
    "\t\t\tif nota < 1.0 or nota > 7.0:\n",
    "\t\t\t\traise ValueError(f\"La nota {j+1} de {nombre} está fuera de rango (1.0 a 7.0). Valor: {nota}\")\n",
    "\n",
    "# Relacionar la lista de estudiantes con el validador y mostrar el resultado\n",
    "\n",
    "try:\n",
    "    validar_estudiantes(estudiantes)\n",
    "    print(\"Todos los datos son válidos.\")\n",
    "except Exception as e:\n",
    "    print(f\"Error de validación: {e}\")"
   ]
  }
 ],
 "metadata": {
  "kernelspec": {
   "display_name": "Python 3",
   "language": "python",
   "name": "python3"
  },
  "language_info": {
   "codemirror_mode": {
    "name": "ipython",
    "version": 3
   },
   "file_extension": ".py",
   "mimetype": "text/x-python",
   "name": "python",
   "nbconvert_exporter": "python",
   "pygments_lexer": "ipython3",
   "version": "3.13.3"
  }
 },
 "nbformat": 4,
 "nbformat_minor": 5
}
